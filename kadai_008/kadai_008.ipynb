{
  "nbformat": 4,
  "nbformat_minor": 0,
  "metadata": {
    "colab": {
      "provenance": []
    },
    "kernelspec": {
      "name": "python3",
      "display_name": "Python 3"
    },
    "language_info": {
      "name": "python"
    }
  },
  "cells": [
    {
      "cell_type": "code",
      "execution_count": 16,
      "metadata": {
        "colab": {
          "base_uri": "https://localhost:8080/"
        },
        "id": "D84TYWUgJojX",
        "outputId": "2ca5eb1a-4253-428d-a6d0-cf6ac6094070"
      },
      "outputs": [
        {
          "output_type": "stream",
          "name": "stdout",
          "text": [
            "varの値は30です。\n",
            "\n",
            "FizzBuzz\n"
          ]
        }
      ],
      "source": [
        "#import\n",
        "\n",
        "import random\n",
        "\n",
        "#変数の定義\n",
        "var = random.randint(0,100)\n",
        "\n",
        "#varの中身を表示と空白行\n",
        "print(f'varの値は{var}です。')\n",
        "print()\n",
        "\n",
        "\n",
        "#FizzBuzzの処理\n",
        "if var % 3 == 0 and var % 5 == 0 :\n",
        "  print('FizzBuzz')\n",
        "elif var % 5 == 0 :\n",
        "  print('Buzz')\n",
        "elif var % 3 == 0 :\n",
        "  print('Fizz')\n",
        "else:\n",
        "  print(var)\n",
        "  #print('FizzBuzz問題に該当しませんでした。')"
      ]
    }
  ]
}