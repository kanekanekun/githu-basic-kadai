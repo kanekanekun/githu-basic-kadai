{
  "nbformat": 4,
  "nbformat_minor": 0,
  "metadata": {
    "colab": {
      "provenance": []
    },
    "kernelspec": {
      "name": "python3",
      "display_name": "Python 3"
    },
    "language_info": {
      "name": "python"
    }
  },
  "cells": [
    {
      "cell_type": "code",
      "execution_count": 2,
      "metadata": {
        "colab": {
          "base_uri": "https://localhost:8080/"
        },
        "id": "mkJU0joDf9ky",
        "outputId": "caa1531d-b6e8-4c8e-cfb9-8fe903129f96"
      },
      "outputs": [
        {
          "output_type": "stream",
          "name": "stdout",
          "text": [
            "1428.9\n"
          ]
        }
      ],
      "source": [
        "def price_and_vat_sum(price: int, vat_rate: float) -> float:\n",
        "  sum = price * (1 + vat_rate)\n",
        "  return sum\n",
        "\n",
        "res = price_and_vat_sum(price=1299,vat_rate=0.1)\n",
        "print(res)\n"
      ]
    }
  ]
}