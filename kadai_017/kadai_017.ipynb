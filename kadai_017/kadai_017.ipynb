{
  "nbformat": 4,
  "nbformat_minor": 0,
  "metadata": {
    "colab": {
      "provenance": []
    },
    "kernelspec": {
      "name": "python3",
      "display_name": "Python 3"
    },
    "language_info": {
      "name": "python"
    }
  },
  "cells": [
    {
      "cell_type": "code",
      "execution_count": 9,
      "metadata": {
        "colab": {
          "base_uri": "https://localhost:8080/"
        },
        "id": "jOtQx36wyx0P",
        "outputId": "a1e449c4-87b6-4412-87e3-c00eb3b9e488"
      },
      "outputs": [
        {
          "output_type": "stream",
          "name": "stdout",
          "text": [
            "名前は、田中太郎です。\n",
            "年齢は、38歳です。\n",
            "田中太郎さんは、大人です。\n",
            "\n",
            "名前は、侍花子です。\n",
            "年齢は、56歳です。\n",
            "侍花子さんは、大人です。\n",
            "\n",
            "名前は、山中次郎です。\n",
            "年齢は、15歳です。\n",
            "山中次郎さんは、大人ではありません。\n",
            "\n",
            "名前は、東山景子です。\n",
            "年齢は、11歳です。\n",
            "東山景子さんは、大人ではありません。\n",
            "\n",
            "名前は、上田三郎です。\n",
            "年齢は、0歳です。\n",
            "上田三郎さんは、大人ではありません。\n",
            "\n",
            "名前は、中島薫です。\n",
            "年齢は、20歳です。\n",
            "中島薫さんは、大人です。\n",
            "\n",
            "名前は、伊賀忍者です。\n",
            "年齢は、16歳です。\n",
            "伊賀忍者さんは、大人ではありません。\n",
            "\n"
          ]
        }
      ],
      "source": [
        "#import\n",
        "import random\n",
        "\n",
        "#名前ディクショナリ(適当に)\n",
        "jpn_names_list = ['田中太郎','侍花子','山中次郎', '東山景子', '上田三郎','中島薫','伊賀忍者']\n",
        "eng_names_list = ['taro','hanako','jiro','keiko','saburo','kaoru','ninja']\n",
        "\n",
        "#インスタンスリストの初期化\n",
        "instance_list = []\n",
        "\n",
        "#辞書配列作成\n",
        "names_dict = dict(zip(jpn_names_list,eng_names_list))\n",
        "\n",
        "#クラスの作成\n",
        "class Human():\n",
        "  def __init__(self):\n",
        "    self.name = ''\n",
        "    self.age = ''\n",
        "\n",
        "  def check_adult(self):\n",
        "    if self.age >= 20:\n",
        "      print(f'{self.name}さんは、大人です。')\n",
        "    else:\n",
        "      print(f'{self.name}さんは、大人ではありません。')\n",
        "\n",
        "  def set_element(self,name:str, age:int):\n",
        "    self.name = name\n",
        "    self.age = age\n",
        "\n",
        "#7人ぐらい追加。年齢はrandintで0から100までの整数値をランダムで出す。\n",
        "#辞書からアイテムを呼び出して、e_names毎にインスタンスを作成。\n",
        "#それから、set_elementで、j_nameと先ほど述べた年齢を入れる。\n",
        "#リストにappendして一回のループは終了。\n",
        "\n",
        "for j_name, e_name in names_dict.items():\n",
        "  e_name = Human()\n",
        "  e_name.set_element(j_name,random.randint(0,100))\n",
        "  instance_list.append(e_name)\n",
        "\n",
        "#intance_listからforを回す。\n",
        "for in_list in instance_list:\n",
        "  print(f'名前は、{in_list.name}です。')\n",
        "  print(f'年齢は、{in_list.age}歳です。')\n",
        "  in_list.check_adult()\n",
        "  #空白行\n",
        "  print()\n"
      ]
    }
  ]
}
