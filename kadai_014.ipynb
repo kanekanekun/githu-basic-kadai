{
  "nbformat": 4,
  "nbformat_minor": 0,
  "metadata": {
    "colab": {
      "provenance": []
    },
    "kernelspec": {
      "name": "python3",
      "display_name": "Python 3"
    },
    "language_info": {
      "name": "python"
    }
  },
  "cells": [
    {
      "cell_type": "code",
      "execution_count": 1,
      "metadata": {
        "colab": {
          "base_uri": "https://localhost:8080/"
        },
        "id": "vMfUclA2jNhP",
        "outputId": "cc004edd-4075-4d4e-9f44-67d4925a46cd"
      },
      "outputs": [
        {
          "output_type": "stream",
          "name": "stdout",
          "text": [
            "330.0\n"
          ]
        }
      ],
      "source": [
        "#Original\n",
        "\"\"\"\n",
        "price1 = 100\n",
        "price2 = 200\n",
        "\n",
        "def total():\n",
        "    tax = 1.1\n",
        "    return price1 + price2\n",
        "\n",
        "print (total() * tax)\n",
        "\"\"\"\n",
        "\n",
        "#Fix\n",
        "tax = 1.1\n",
        "\n",
        "def total():\n",
        "  price1 = 100\n",
        "  price2 = 200\n",
        "  return price1 + price2\n",
        "\n",
        "print (total() * tax)"
      ]
    }
  ]
}