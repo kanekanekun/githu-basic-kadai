{
  "nbformat": 4,
  "nbformat_minor": 0,
  "metadata": {
    "colab": {
      "provenance": []
    },
    "kernelspec": {
      "name": "python3",
      "display_name": "Python 3"
    },
    "language_info": {
      "name": "python"
    }
  },
  "cells": [
    {
      "cell_type": "code",
      "execution_count": 1,
      "metadata": {
        "colab": {
          "base_uri": "https://localhost:8080/"
        },
        "id": "5vl-maxigNNt",
        "outputId": "505ff026-a776-4e8c-c6ae-44af4f9f15ca"
      },
      "outputs": [
        {
          "output_type": "stream",
          "name": "stdout",
          "text": [
            "結果:75.0c㎡\n"
          ]
        }
      ],
      "source": [
        "#台形の面積の公式を使って、結果を出す。\n",
        "\n",
        "#変数定義\n",
        "upper_side = 10\n",
        "lower_side = 20\n",
        "height = 5\n",
        "\n",
        "#台形の面積の計算\n",
        "result = (upper_side + lower_side) * height / 2\n",
        "\n",
        "#結果の表示\n",
        "print(f'結果:{result}c㎡')"
      ]
    }
  ]
}
