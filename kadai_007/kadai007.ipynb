{
  "nbformat": 4,
  "nbformat_minor": 0,
  "metadata": {
    "colab": {
      "provenance": []
    },
    "kernelspec": {
      "name": "python3",
      "display_name": "Python 3"
    },
    "language_info": {
      "name": "python"
    }
  },
  "cells": [
    {
      "cell_type": "code",
      "execution_count": 3,
      "metadata": {
        "colab": {
          "base_uri": "https://localhost:8080/"
        },
        "id": "cXHGzjTM_etS",
        "outputId": "b7a57d1e-609f-4585-87e8-556baa1d7c86"
      },
      "outputs": [
        {
          "output_type": "stream",
          "name": "stdout",
          "text": [
            "水曜日は晴れです\n",
            "['月曜日は晴れです', '火曜日は雨です', '水曜日は晴れです', '木曜日は晴れです', '金曜日は曇りです', '土曜日は曇りのち雨です', '日曜日は雷雨です。']\n",
            "\n",
            "晴れ\n",
            "{'mon': '晴れ', 'tue': '雨', 'wed': '晴れ', 'thu': '晴れ', 'fri': '曇り', 'sat': '曇りのち雨', 'sun': '雷雨'}\n"
          ]
        }
      ],
      "source": [
        "#array の作成\n",
        "array = ['月曜日は晴れです','火曜日は雨です','水曜日は晴れです','木曜日は晴れです','金曜日は曇りです','土曜日は曇りのち雨です','日曜日は雷雨です。']\n",
        "\n",
        "#デバッグ用\n",
        "print(array[2])\n",
        "print(array)\n",
        "\n",
        "#空白行を出す。\n",
        "print()\n",
        "\n",
        "dictionary = {'mon' : '晴れ', 'tue' : '雨', 'wed':'晴れ', 'thu':'晴れ', 'fri':'曇り','sat':'曇りのち雨','sun':'雷雨'}\n",
        "\n",
        "#デバッグ用\n",
        "print(dictionary['wed'])\n",
        "print(dictionary)\n"
      ]
    }
  ]
}
