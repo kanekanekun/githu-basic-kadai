{
  "nbformat": 4,
  "nbformat_minor": 0,
  "metadata": {
    "colab": {
      "provenance": []
    },
    "kernelspec": {
      "name": "python3",
      "display_name": "Python 3"
    },
    "language_info": {
      "name": "python"
    }
  },
  "cells": [
    {
      "cell_type": "code",
      "execution_count": 12,
      "metadata": {
        "colab": {
          "base_uri": "https://localhost:8080/"
        },
        "id": "XR4IieB_YB7I",
        "outputId": "4c158570-2742-433b-b7c3-185bc43fe2e7"
      },
      "outputs": [
        {
          "output_type": "stream",
          "name": "stdout",
          "text": [
            "For分で処理を行います。\n",
            "水\n",
            "金\n",
            "地\n",
            "火\n",
            "木\n",
            "土\n",
            "天\n",
            "海\n",
            "冥\n",
            "\n",
            "arrayの要素の数は、9です。\n",
            "\n",
            "Whileで処理を行います。\n",
            "水\n",
            "金\n",
            "地\n",
            "火\n",
            "木\n",
            "土\n",
            "天\n",
            "海\n",
            "冥\n"
          ]
        }
      ],
      "source": [
        "#変数の定義\n",
        "array = [\"水\",\"金\",\"地\",\"火\",\"木\",\"土\",\"天\",\"海\",\"冥\"]\n",
        "j = 0\n",
        "\n",
        "#For文\n",
        "print('For文で処理を行います。')\n",
        "\n",
        "for i in array:\n",
        "  print(i)\n",
        "\n",
        "#空白\n",
        "print()\n",
        "\n",
        "#デバッグ\n",
        "print(f'arrayの要素の数は、{len(array)}です。')\n",
        "\n",
        "#空白\n",
        "print()\n",
        "\n",
        "#While文\n",
        "print('While文で処理を行います。')\n",
        "\n",
        "#無理やり気味に書いてます。\n",
        "while array[j] != '冥':\n",
        "  print(array[j])\n",
        "\n",
        "  j += 1\n",
        "  if array[j] == '冥':\n",
        "    print(array[j])\n",
        "    break"
      ]
    }
  ]
}